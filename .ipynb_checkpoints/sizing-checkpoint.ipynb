version https://git-lfs.github.com/spec/v1
oid sha256:0c364734245e57222801b9ac011ef1cf5ada1e4005dac0c3fe5b54aae7469219
size 29406
