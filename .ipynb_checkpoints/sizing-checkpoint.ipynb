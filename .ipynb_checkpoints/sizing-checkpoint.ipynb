version https://git-lfs.github.com/spec/v1
oid sha256:489815f865dc6111f7c4f4b940ad881d2bf3f3cd514aa97e10572163ee690db2
size 15554538
