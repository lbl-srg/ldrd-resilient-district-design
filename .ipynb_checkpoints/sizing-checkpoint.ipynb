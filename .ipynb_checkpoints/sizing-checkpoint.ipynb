version https://git-lfs.github.com/spec/v1
oid sha256:7ddc3710c70ac850fafa5ebef4f6c1f570931ea8ba4261db6f04d24f401ca109
size 284928
