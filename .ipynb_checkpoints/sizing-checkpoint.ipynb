version https://git-lfs.github.com/spec/v1
oid sha256:1925d31c595ec6c4fdbcff505808baffdb81105a9a0d4db0aefeda91f3a4a2af
size 18831761
