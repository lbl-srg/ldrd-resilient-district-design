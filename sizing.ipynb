version https://git-lfs.github.com/spec/v1
oid sha256:aaa74b69cdbc7e78873c8b7e256261b4f8886b22d9016a48a964f750a5b55221
size 14458
