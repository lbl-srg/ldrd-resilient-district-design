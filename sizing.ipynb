version https://git-lfs.github.com/spec/v1
oid sha256:4888c19c01d058053ea04369de4e3e8da9b4f7781b21fe41af753e9682fb2c6c
size 21265
