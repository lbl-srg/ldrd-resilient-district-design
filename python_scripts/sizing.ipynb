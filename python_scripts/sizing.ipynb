version https://git-lfs.github.com/spec/v1
oid sha256:2b7ce139ffcb1ffb3095283f48633e8980be3f7fd6c491f9f7fca3cdaeddd5e0
size 13648251
