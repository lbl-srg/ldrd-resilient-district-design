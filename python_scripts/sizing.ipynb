version https://git-lfs.github.com/spec/v1
oid sha256:406c7844bb9e84d5696559b6665103af9c05c424b255de8fe4b59f8898f7e3b6
size 7917320
