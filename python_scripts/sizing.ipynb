version https://git-lfs.github.com/spec/v1
oid sha256:6a54a3dacf504f8ff08e96a29f25e916b57a042ed55068c406b9b8d1ca36d54e
size 13656555
