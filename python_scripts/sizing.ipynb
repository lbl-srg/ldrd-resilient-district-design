version https://git-lfs.github.com/spec/v1
oid sha256:8c75f2f3f45ec80ca9ff859afce0800339e639f5ee471f47b358b3849ba3e0c5
size 13480201
