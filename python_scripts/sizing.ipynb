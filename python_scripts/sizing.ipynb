version https://git-lfs.github.com/spec/v1
oid sha256:6b9737ccc02368eca503ea278f40c80a6956ea353a520dbc73c2cc7c7d25783e
size 1438470
