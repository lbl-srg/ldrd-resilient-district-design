version https://git-lfs.github.com/spec/v1
oid sha256:59c78b0bfda53fa393db64f038881d8fa54a8cb615fe1aae3698bfb9d604c9ad
size 5054542
