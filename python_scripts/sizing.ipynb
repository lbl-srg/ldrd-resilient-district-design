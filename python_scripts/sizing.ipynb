version https://git-lfs.github.com/spec/v1
oid sha256:d178860b9f8febe37729232808b5b9e8b85caa67e70360d2f833eb8835a7a14d
size 8538586
